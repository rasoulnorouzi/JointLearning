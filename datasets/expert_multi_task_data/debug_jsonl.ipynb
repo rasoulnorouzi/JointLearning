{
 "cells": [
  {
   "cell_type": "code",
   "execution_count": 1,
   "id": "814ceec3",
   "metadata": {},
   "outputs": [
    {
     "name": "stdout",
     "output_type": "stream",
     "text": [
      "Attempting to read and parse: doccano_test copy.jsonl\n",
      "Reading file: doccano_test copy.jsonl\n",
      "Successfully parsed all lines. The file seems to be a valid JSONL.\n"
     ]
    }
   ],
   "source": [
    "import json\n",
    "\n",
    "# Path to the JSONL file, assuming it's in the same directory as this notebook\n",
    "file_path = \"doccano_test copy.jsonl\"\n",
    "print(f\"Attempting to read and parse: {file_path}\")\n",
    "\n",
    "try:\n",
    "    with open(file_path, 'r', encoding='utf-8') as f:\n",
    "        error_found = False\n",
    "        print(f\"Reading file: {file_path}\")\n",
    "        for i, line_content_from_file in enumerate(f):\n",
    "            stripped_line = line_content_from_file.strip()\n",
    "            if not stripped_line: # Skip empty lines if they are not intended to be valid JSON objects\n",
    "                print(f\"Skipping empty line at line number {i+1}\")\n",
    "                continue\n",
    "            try:\n",
    "                json.loads(stripped_line)\n",
    "            except json.JSONDecodeError as e:\n",
    "                print(f\"--------------------------------------------------\")\n",
    "                print(f\"Error decoding JSON on line {i+1} (after stripping whitespace):\")\n",
    "                print(f\"Error message: {e}\")\n",
    "                print(f\"Problematic line content (stripped): '{stripped_line}'\")\n",
    "                # For original line, rstrip only the trailing newline for cleaner display\n",
    "                print(f\"Original problematic line content: '{line_content_from_file.rstrip('\\n')}'\")\n",
    "                print(f\"--------------------------------------------------\")\n",
    "                error_found = True\n",
    "                # To stop after the first error, uncomment the next line:\n",
    "                # break \n",
    "        \n",
    "        if not error_found:\n",
    "            print(\"Successfully parsed all lines. The file seems to be a valid JSONL.\")\n",
    "        else:\n",
    "            print(\"Found errors in the JSONL file. See details above.\")\n",
    "\n",
    "except FileNotFoundError:\n",
    "    print(f\"Error: File not found at '{file_path}'. Please ensure the file exists in the same directory as this notebook or provide the correct path.\")\n",
    "except Exception as e:\n",
    "    print(f\"An unexpected error occurred: {e}\")"
   ]
  },
  {
   "cell_type": "code",
   "execution_count": 2,
   "id": "0b22cd46",
   "metadata": {},
   "outputs": [],
   "source": [
    "import pandas as pd"
   ]
  },
  {
   "cell_type": "code",
   "execution_count": 3,
   "id": "701f4501",
   "metadata": {},
   "outputs": [
    {
     "name": "stdout",
     "output_type": "stream",
     "text": [
      "     id                                               text  \\\n",
      "0  7519  in an explicit task, social impression assessm...   \n",
      "1  5954  broadening the motivation to cooperate: revisi...   \n",
      "2  6277  in addition, in studies that have not found em...   \n",
      "3  9078  Results from the questionnaire were consistent...   \n",
      "4  6756  \"a more surprising result is that targeted inf...   \n",
      "\n",
      "                                            entities  \\\n",
      "0  [{'id': 7811, 'label': 'cause', 'start_offset'...   \n",
      "1  [{'id': 3753, 'label': 'non-causal', 'start_of...   \n",
      "2  [{'id': 4598, 'label': 'non-causal', 'start_of...   \n",
      "3  [{'id': 9404, 'label': 'non-causal', 'start_of...   \n",
      "4  [{'id': 5907, 'label': 'cause', 'start_offset'...   \n",
      "\n",
      "                                           relations Comments  \n",
      "0  [{'id': 3515, 'from_id': 7811, 'to_id': 7812, ...       []  \n",
      "1                                                 []       []  \n",
      "2                                                 []       []  \n",
      "3                                                 []       []  \n",
      "4  [{'id': 2679, 'from_id': 5907, 'to_id': 5908, ...       []  \n"
     ]
    }
   ],
   "source": [
    "test_df = pd.read_json(file_path, lines=True)\n",
    "print(test_df.head())"
   ]
  },
  {
   "cell_type": "code",
   "execution_count": 4,
   "id": "529e547c",
   "metadata": {},
   "outputs": [
    {
     "name": "stdout",
     "output_type": "stream",
     "text": [
      "DataFrame saved to 'test.csv'.\n"
     ]
    }
   ],
   "source": [
    "# save it to a CSV file with name test.csv\n",
    "test_df.to_csv('test.csv', index=False)\n",
    "print(\"DataFrame saved to 'test.csv'.\")"
   ]
  },
  {
   "cell_type": "code",
   "execution_count": null,
   "id": "554f84b6",
   "metadata": {},
   "outputs": [],
   "source": []
  }
 ],
 "metadata": {
  "kernelspec": {
   "display_name": "myenv",
   "language": "python",
   "name": "python3"
  },
  "language_info": {
   "codemirror_mode": {
    "name": "ipython",
    "version": 3
   },
   "file_extension": ".py",
   "mimetype": "text/x-python",
   "name": "python",
   "nbconvert_exporter": "python",
   "pygments_lexer": "ipython3",
   "version": "3.12.7"
  }
 },
 "nbformat": 4,
 "nbformat_minor": 5
}
