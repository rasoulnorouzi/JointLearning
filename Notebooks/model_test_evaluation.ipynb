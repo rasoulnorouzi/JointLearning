{
 "cells": [
  {
   "cell_type": "code",
   "execution_count": 11,
   "id": "025d76b3",
   "metadata": {},
   "outputs": [
    {
     "name": "stderr",
     "output_type": "stream",
     "text": [
      "c:\\Users\\norouzin\\Desktop\\JointLearning\\myenv\\Lib\\site-packages\\tqdm\\auto.py:21: TqdmWarning: IProgress not found. Please update jupyter and ipywidgets. See https://ipywidgets.readthedocs.io/en/stable/user_install.html\n",
      "  from .autonotebook import tqdm as notebook_tqdm\n"
     ]
    }
   ],
   "source": [
    "import sys\n",
    "import os\n",
    "sys.path.append(os.path.abspath(os.path.join(os.getcwd(), '..')))\n",
    "from src.jointlearning import model"
   ]
  },
  {
   "cell_type": "code",
   "execution_count": null,
   "id": "28de12b4",
   "metadata": {},
   "outputs": [
    {
     "name": "stdout",
     "output_type": "stream",
     "text": [
      "Current working directory: c:\\Users\\norouzin\\Desktop\\JointLearning\\Notebooks\n",
      "sys.path: ['C:\\\\Users\\\\norouzin\\\\AppData\\\\Local\\\\miniconda3\\\\python312.zip', 'C:\\\\Users\\\\norouzin\\\\AppData\\\\Local\\\\miniconda3\\\\DLLs', 'C:\\\\Users\\\\norouzin\\\\AppData\\\\Local\\\\miniconda3\\\\Lib', 'C:\\\\Users\\\\norouzin\\\\AppData\\\\Local\\\\miniconda3', 'c:\\\\Users\\\\norouzin\\\\Desktop\\\\JointLearning\\\\myenv', '', 'c:\\\\Users\\\\norouzin\\\\Desktop\\\\JointLearning\\\\myenv\\\\Lib\\\\site-packages', 'c:\\\\Users\\\\norouzin\\\\Desktop\\\\JointLearning\\\\myenv\\\\Lib\\\\site-packages\\\\win32', 'c:\\\\Users\\\\norouzin\\\\Desktop\\\\JointLearning\\\\myenv\\\\Lib\\\\site-packages\\\\win32\\\\lib', 'c:\\\\Users\\\\norouzin\\\\Desktop\\\\JointLearning\\\\myenv\\\\Lib\\\\site-packages\\\\Pythonwin']\n",
      "Import failed: No module named 'src'\n"
     ]
    }
   ],
   "source": [
    "# If you still get an import error, run this cell to debug the import path\n",
    "import os, sys\n",
    "print('Current working directory:', os.getcwd())\n",
    "print('sys.path:', sys.path)\n",
    "\n",
    "# Try importing again\n",
    "try:\n",
    "    from src.jointlearning import model\n",
    "    print('Import succeeded!')\n",
    "except Exception as e:\n",
    "    print('Import failed:', e)\n",
    "\n",
    "# Confirm the import works and show model attributes\n",
    "print('model module attributes:', dir(model))"
   ]
  }
 ],
 "metadata": {
  "kernelspec": {
   "display_name": "myenv",
   "language": "python",
   "name": "python3"
  },
  "language_info": {
   "codemirror_mode": {
    "name": "ipython",
    "version": 3
   },
   "file_extension": ".py",
   "mimetype": "text/x-python",
   "name": "python",
   "nbconvert_exporter": "python",
   "pygments_lexer": "ipython3",
   "version": "3.12.7"
  }
 },
 "nbformat": 4,
 "nbformat_minor": 5
}
